{
 "cells": [
  {
   "cell_type": "markdown",
   "metadata": {
    "collapsed": true,
    "deletable": true,
    "editable": true
   },
   "source": [
    "# Image Classification\n",
    "In this project, you'll classify images from the [CIFAR-10 dataset](https://www.cs.toronto.edu/~kriz/cifar.html).  The dataset consists of airplanes, dogs, cats, and other objects. You'll preprocess the images, then train a convolutional neural network on all the samples. The images need to be normalized and the labels need to be one-hot encoded.  You'll get to apply what you learned and build a convolutional, max pooling, dropout, and fully connected layers.  At the end, you'll get to see your neural network's predictions on the sample images.\n",
    "## Get the Data\n",
    "Run the following cell to download the [CIFAR-10 dataset for python](https://www.cs.toronto.edu/~kriz/cifar-10-python.tar.gz)."
   ]
  },
  {
   "cell_type": "code",
   "execution_count": 1,
   "metadata": {
    "collapsed": false,
    "deletable": true,
    "editable": true
   },
   "outputs": [
    {
     "name": "stdout",
     "output_type": "stream",
     "text": [
      "All files found!\n"
     ]
    }
   ],
   "source": [
    "\"\"\"\n",
    "DON'T MODIFY ANYTHING IN THIS CELL THAT IS BELOW THIS LINE\n",
    "\"\"\"\n",
    "from urllib.request import urlretrieve\n",
    "from os.path import isfile, isdir\n",
    "from tqdm import tqdm\n",
    "import problem_unittests as tests\n",
    "import tarfile\n",
    "\n",
    "cifar10_dataset_folder_path = 'cifar-10-batches-py'\n",
    "\n",
    "# Use Floyd's cifar-10 dataset if present\n",
    "floyd_cifar10_location = '/input/cifar-10/python.tar.gz'\n",
    "if isfile(floyd_cifar10_location):\n",
    "    tar_gz_path = floyd_cifar10_location\n",
    "else:\n",
    "    tar_gz_path = 'cifar-10-python.tar.gz'\n",
    "\n",
    "class DLProgress(tqdm):\n",
    "    last_block = 0\n",
    "\n",
    "    def hook(self, block_num=1, block_size=1, total_size=None):\n",
    "        self.total = total_size\n",
    "        self.update((block_num - self.last_block) * block_size)\n",
    "        self.last_block = block_num\n",
    "\n",
    "if not isfile(tar_gz_path):\n",
    "    with DLProgress(unit='B', unit_scale=True, miniters=1, desc='CIFAR-10 Dataset') as pbar:\n",
    "        urlretrieve(\n",
    "            'https://www.cs.toronto.edu/~kriz/cifar-10-python.tar.gz',\n",
    "            tar_gz_path,\n",
    "            pbar.hook)\n",
    "\n",
    "if not isdir(cifar10_dataset_folder_path):\n",
    "    with tarfile.open(tar_gz_path) as tar:\n",
    "        tar.extractall()\n",
    "        tar.close()\n",
    "\n",
    "\n",
    "tests.test_folder_path(cifar10_dataset_folder_path)"
   ]
  },
  {
   "cell_type": "markdown",
   "metadata": {
    "deletable": true,
    "editable": true
   },
   "source": [
    "## Explore the Data\n",
    "The dataset is broken into batches to prevent your machine from running out of memory.  The CIFAR-10 dataset consists of 5 batches, named `data_batch_1`, `data_batch_2`, etc.. Each batch contains the labels and images that are one of the following:\n",
    "* airplane\n",
    "* automobile\n",
    "* bird\n",
    "* cat\n",
    "* deer\n",
    "* dog\n",
    "* frog\n",
    "* horse\n",
    "* ship\n",
    "* truck\n",
    "\n",
    "Understanding a dataset is part of making predictions on the data.  Play around with the code cell below by changing the `batch_id` and `sample_id`. The `batch_id` is the id for a batch (1-5). The `sample_id` is the id for a image and label pair in the batch.\n",
    "\n",
    "Ask yourself \"What are all possible labels?\", \"What is the range of values for the image data?\", \"Are the labels in order or random?\".  Answers to questions like these will help you preprocess the data and end up with better predictions."
   ]
  },
  {
   "cell_type": "code",
   "execution_count": 2,
   "metadata": {
    "collapsed": false,
    "deletable": true,
    "editable": true
   },
   "outputs": [
    {
     "name": "stdout",
     "output_type": "stream",
     "text": [
      "\n",
      "Stats of batch 2:\n",
      "Samples: 10000\n",
      "Label Counts: {0: 984, 1: 1007, 2: 1010, 3: 995, 4: 1010, 5: 988, 6: 1008, 7: 1026, 8: 987, 9: 985}\n",
      "First 20 Labels: [1, 6, 6, 8, 8, 3, 4, 6, 0, 6, 0, 3, 6, 6, 5, 4, 8, 3, 2, 6]\n",
      "\n",
      "Example of Image 0:\n",
      "Image - Min Value: 5 Max Value: 225\n",
      "Image - Shape: (32, 32, 3)\n",
      "Label - Label Id: 1 Name: automobile\n"
     ]
    },
    {
     "data": {
      "image/png": "[encoded data removed]",
      "text/plain": [
       "<matplotlib.figure.Figure at 0x7f3f71ab54a8>"
      ]
     },
     "metadata": {
      "image/png": {
       "height": 250,
       "width": 253
      }
     },
     "output_type": "display_data"
    }
   ],
   "source": [
    "%matplotlib inline\n",
    "%config InlineBackend.figure_format = 'retina'\n",
    "\n",
    "import helper\n",
    "import numpy as np\n",
    "\n",
    "# Explore the dataset\n",
    "batch_id = 2\n",
    "sample_id = 0\n",
    "helper.display_stats(cifar10_dataset_folder_path, batch_id, sample_id)"
   ]
  },
  {
   "cell_type": "markdown",
   "metadata": {
    "deletable": true,
    "editable": true
   },
   "source": [
    "## Implement Preprocess Functions\n",
    "### Normalize\n",
    "In the cell below, implement the `normalize` function to take in image data, `x`, and return it as a normalized Numpy array. The values should be in the range of 0 to 1, inclusive.  The return object should be the same shape as `x`."
   ]
  },
  {
   "cell_type": "code",
   "execution_count": 3,
   "metadata": {
    "collapsed": false,
    "deletable": true,
    "editable": true
   },
   "outputs": [
    {
     "name": "stdout",
     "output_type": "stream",
     "text": [
      "Tests Passed\n"
     ]
    }
   ],
   "source": [
    "def normalize(x):\n",
    "    \"\"\"\n",
    "    Normalize a list of sample image data in the range of 0 to 1\n",
    "    : x: List of image data.  The image shape is (32, 32, 3)\n",
    "    : return: Numpy array of normalize data\n",
    "    \"\"\"\n",
    "    #print(\"Data range: \", np.min(x), \"-\", np.max(x))\n",
    "    #print(\"Input shape: \", x.shape)\n",
    "    \n",
    "    # Z = (X - Xmin) / (Xmax - Xmin)\n",
    "    #print(\"============Normalizing input values============\")\n",
    "    x_norm = (x - np.min(x)) / (np.max(x) - np.min(x))\n",
    "    \n",
    "    #print(\"Normalized data range: \", np.min(x_norm), \"-\", np.max(x_norm))\n",
    "    return x_norm\n",
    "\n",
    "\n",
    "\"\"\"\n",
    "DON'T MODIFY ANYTHING IN THIS CELL THAT IS BELOW THIS LINE\n",
    "\"\"\"\n",
    "tests.test_normalize(normalize)"
   ]
  },
  {
   "cell_type": "markdown",
   "metadata": {
    "deletable": true,
    "editable": true
   },
   "source": [
    "### One-hot encode\n",
    "Just like the previous code cell, you'll be implementing a function for preprocessing.  This time, you'll implement the `one_hot_encode` function. The input, `x`, are a list of labels.  Implement the function to return the list of labels as One-Hot encoded Numpy array.  The possible values for labels are 0 to 9. The one-hot encoding function should return the same encoding for each value between each call to `one_hot_encode`.  Make sure to save the map of encodings outside the function.\n",
    "\n",
    "Hint: Don't reinvent the wheel."
   ]
  },
  {
   "cell_type": "code",
   "execution_count": 4,
   "metadata": {
    "collapsed": false,
    "deletable": true,
    "editable": true
   },
   "outputs": [
    {
     "name": "stdout",
     "output_type": "stream",
     "text": [
      "Tests Passed\n"
     ]
    }
   ],
   "source": [
    "def one_hot_encode(x):\n",
    "    \"\"\"\n",
    "    One hot encode a list of sample labels. Return a one-hot encoded vector for each label.\n",
    "    : x: List of sample Labels\n",
    "    : return: Numpy array of one-hot encoded labels\n",
    "    \"\"\"\n",
    "    # TODO: Implement Function\n",
    "    # np.eye() - Return a 2-D array with ones on the diagonal and zeros elsewhere.\n",
    "    #print(\"============One-hot encoding labels============\")\n",
    "    one_hot = np.eye(10)[x]\n",
    "    #print(\"one_hot shape: \", one_hot.shape)\n",
    "    return one_hot\n",
    "\n",
    "\n",
    "\"\"\"\n",
    "DON'T MODIFY ANYTHING IN THIS CELL THAT IS BELOW THIS LINE\n",
    "\"\"\"\n",
    "tests.test_one_hot_encode(one_hot_encode)"
   ]
  },
  {
   "cell_type": "markdown",
   "metadata": {
    "deletable": true,
    "editable": true
   },
   "source": [
    "### Randomize Data\n",
    "As you saw from exploring the data above, the order of the samples are randomized.  It doesn't hurt to randomize it again, but you don't need to for this dataset."
   ]
  },
  {
   "cell_type": "markdown",
   "metadata": {
    "deletable": true,
    "editable": true
   },
   "source": [
    "## Preprocess all the data and save it\n",
    "Running the code cell below will preprocess all the CIFAR-10 data and save it to file. The code below also uses 10% of the training data for validation."
   ]
  },
  {
   "cell_type": "code",
   "execution_count": 5,
   "metadata": {
    "collapsed": false,
    "deletable": true,
    "editable": true
   },
   "outputs": [],
   "source": [
    "\"\"\"\n",
    "DON'T MODIFY ANYTHING IN THIS CELL\n",
    "\"\"\"\n",
    "# Preprocess Training, Validation, and Testing Data\n",
    "helper.preprocess_and_save_data(cifar10_dataset_folder_path, normalize, one_hot_encode)"
   ]
  },
  {
   "cell_type": "markdown",
   "metadata": {
    "deletable": true,
    "editable": true
   },
   "source": [
    "# Check Point\n",
    "This is your first checkpoint.  If you ever decide to come back to this notebook or have to restart the notebook, you can start from here.  The preprocessed data has been saved to disk."
   ]
  },
  {
   "cell_type": "code",
   "execution_count": 6,
   "metadata": {
    "collapsed": true,
    "deletable": true,
    "editable": true
   },
   "outputs": [],
   "source": [
    "\"\"\"\n",
    "DON'T MODIFY ANYTHING IN THIS CELL\n",
    "\"\"\"\n",
    "import pickle\n",
    "import problem_unittests as tests\n",
    "import helper\n",
    "\n",
    "# Load the Preprocessed Validation data\n",
    "valid_features, valid_labels = pickle.load(open('preprocess_validation.p', mode='rb'))"
   ]
  },
  {
   "cell_type": "markdown",
   "metadata": {
    "deletable": true,
    "editable": true
   },
   "source": [
    "## Build the network\n",
    "For the neural network, you'll build each layer into a function.  Most of the code you've seen has been outside of functions. To test your code more thoroughly, we require that you put each layer in a function.  This allows us to give you better feedback and test for simple mistakes using our unittests before you submit your project.\n",
    "\n",
    ">**Note:** If you're finding it hard to dedicate enough time for this course each week, we've provided a small shortcut to this part of the project. In the next couple of problems, you'll have the option to use classes from the [TensorFlow Layers](https://www.tensorflow.org/api_docs/python/tf/layers) or [TensorFlow Layers (contrib)](https://www.tensorflow.org/api_guides/python/contrib.layers) packages to build each layer, except the layers you build in the \"Convolutional and Max Pooling Layer\" section.  TF Layers is similar to Keras's and TFLearn's abstraction to layers, so it's easy to pickup.\n",
    "\n",
    ">However, if you would like to get the most out of this course, try to solve all the problems _without_ using anything from the TF Layers packages. You **can** still use classes from other packages that happen to have the same name as ones you find in TF Layers! For example, instead of using the TF Layers version of the `conv2d` class, [tf.layers.conv2d](https://www.tensorflow.org/api_docs/python/tf/layers/conv2d), you would want to use the TF Neural Network version of `conv2d`, [tf.nn.conv2d](https://www.tensorflow.org/api_docs/python/tf/nn/conv2d). \n",
    "\n",
    "Let's begin!\n",
    "\n",
    "### Input\n",
    "The neural network needs to read the image data, one-hot encoded labels, and dropout keep probability. Implement the following functions\n",
    "* Implement `neural_net_image_input`\n",
    " * Return a [TF Placeholder](https://www.tensorflow.org/api_docs/python/tf/placeholder)\n",
    " * Set the shape using `image_shape` with batch size set to `None`.\n",
    " * Name the TensorFlow placeholder \"x\" using the TensorFlow `name` parameter in the [TF Placeholder](https://www.tensorflow.org/api_docs/python/tf/placeholder).\n",
    "* Implement `neural_net_label_input`\n",
    " * Return a [TF Placeholder](https://www.tensorflow.org/api_docs/python/tf/placeholder)\n",
    " * Set the shape using `n_classes` with batch size set to `None`.\n",
    " * Name the TensorFlow placeholder \"y\" using the TensorFlow `name` parameter in the [TF Placeholder](https://www.tensorflow.org/api_docs/python/tf/placeholder).\n",
    "* Implement `neural_net_keep_prob_input`\n",
    " * Return a [TF Placeholder](https://www.tensorflow.org/api_docs/python/tf/placeholder) for dropout keep probability.\n",
    " * Name the TensorFlow placeholder \"keep_prob\" using the TensorFlow `name` parameter in the [TF Placeholder](https://www.tensorflow.org/api_docs/python/tf/placeholder).\n",
    "\n",
    "These names will be used at the end of the project to load your saved model.\n",
    "\n",
    "Note: `None` for shapes in TensorFlow allow for a dynamic size."
   ]
  },
  {
   "cell_type": "code",
   "execution_count": 7,
   "metadata": {
    "collapsed": false,
    "deletable": true,
    "editable": true
   },
   "outputs": [
    {
     "name": "stdout",
     "output_type": "stream",
     "text": [
      "Image Input Tests Passed.\n",
      "Label Input Tests Passed.\n",
      "Keep Prob Tests Passed.\n"
     ]
    }
   ],
   "source": [
    "import tensorflow as tf\n",
    "\n",
    "def neural_net_image_input(image_shape):\n",
    "    \"\"\"\n",
    "    Return a Tensor for a bach of image input\n",
    "    : image_shape: Shape of the images\n",
    "    : return: Tensor for image input.\n",
    "    \"\"\"\n",
    "    # TODO: Implement Function\n",
    "    x = tf.placeholder(tf.float32, [None, image_shape[0], image_shape[1], image_shape[2]], name=\"x\")\n",
    "    #print(\"Tensor for image input: \", x)\n",
    "    return x\n",
    "\n",
    "\n",
    "def neural_net_label_input(n_classes):\n",
    "    \"\"\"\n",
    "    Return a Tensor for a batch of label input\n",
    "    : n_classes: Number of classes\n",
    "    : return: Tensor for label input.\n",
    "    \"\"\"\n",
    "    # TODO: Implement Function\n",
    "    y = tf.placeholder(tf.float32, [None, n_classes], name=\"y\")\n",
    "    #print(\"Tensor for label input: \", y)\n",
    "    return y\n",
    "\n",
    "\n",
    "def neural_net_keep_prob_input():\n",
    "    \"\"\"\n",
    "    Return a Tensor for keep probability\n",
    "    : return: Tensor for keep probability.\n",
    "    \"\"\"\n",
    "    # TODO: Implement Function\n",
    "    keep_prob = tf.placeholder(tf.float32, None, name=\"keep_prob\")\n",
    "    #print(\"Tensor for keep probability: \", keep_prob)\n",
    "    return keep_prob\n",
    "\n",
    "\n",
    "\"\"\"\n",
    "DON'T MODIFY ANYTHING IN THIS CELL THAT IS BELOW THIS LINE\n",
    "\"\"\"\n",
    "tf.reset_default_graph()\n",
    "tests.test_nn_image_inputs(neural_net_image_input)\n",
    "tests.test_nn_label_inputs(neural_net_label_input)\n",
    "tests.test_nn_keep_prob_inputs(neural_net_keep_prob_input)"
   ]
  },
  {
   "cell_type": "markdown",
   "metadata": {
    "deletable": true,
    "editable": true
   },
   "source": [
    "### Convolution and Max Pooling Layer\n",
    "Convolution layers have a lot of success with images. For this code cell, you should implement the function `conv2d_maxpool` to apply convolution then max pooling:\n",
    "* Create the weight and bias using `conv_ksize`, `conv_num_outputs` and the shape of `x_tensor`.\n",
    "* Apply a convolution to `x_tensor` using weight and `conv_strides`.\n",
    " * We recommend you use same padding, but you're welcome to use any padding.\n",
    "* Add bias\n",
    "* Add a nonlinear activation to the convolution.\n",
    "* Apply Max Pooling using `pool_ksize` and `pool_strides`.\n",
    " * We recommend you use same padding, but you're welcome to use any padding.\n",
    "\n",
    "**Note:** You **can't** use [TensorFlow Layers](https://www.tensorflow.org/api_docs/python/tf/layers) or [TensorFlow Layers (contrib)](https://www.tensorflow.org/api_guides/python/contrib.layers) for **this** layer, but you can still use TensorFlow's [Neural Network](https://www.tensorflow.org/api_docs/python/tf/nn) package. You may still use the shortcut option for all the **other** layers."
   ]
  },
  {
   "cell_type": "code",
   "execution_count": 8,
   "metadata": {
    "collapsed": false,
    "deletable": true,
    "editable": true
   },
   "outputs": [
    {
     "name": "stdout",
     "output_type": "stream",
     "text": [
      "Tests Passed\n"
     ]
    }
   ],
   "source": [
    "def conv2d_maxpool(x_tensor, conv_num_outputs, conv_ksize, conv_strides, pool_ksize, pool_strides):\n",
    "    \"\"\"\n",
    "    Apply convolution then max pooling to x_tensor\n",
    "    :param x_tensor: TensorFlow Tensor\n",
    "    :param conv_num_outputs: Number of outputs for the convolutional layer\n",
    "    :param conv_ksize: kernal size 2-D Tuple for the convolutional layer\n",
    "    :param conv_strides: Stride 2-D Tuple for convolution\n",
    "    :param pool_ksize: kernal size 2-D Tuple for pool\n",
    "    :param pool_strides: Stride 2-D Tuple for pool\n",
    "    : return: A tensor that represents convolution and max pooling of x_tensor\n",
    "    \"\"\"\n",
    "\n",
    "    weight = tf.Variable(tf.truncated_normal([conv_ksize[0],\n",
    "         conv_ksize[1],\n",
    "         x_tensor.get_shape().as_list()[-1],\n",
    "         conv_num_outputs]))\n",
    "    bias = tf.Variable(tf.zeros(conv_num_outputs))\n",
    "    \n",
    "    #print(\"weight shape: \", weight.get_shape().as_list())\n",
    "    #print(\"bias shape: \", bias.get_shape().as_list())\n",
    "\n",
    "    #print(\"============Convolution layer============\")\n",
    "    conv_layer = tf.nn.conv2d(x_tensor, weight, strides=[1, conv_strides[0], conv_strides[1], 1], padding='SAME')\n",
    "    conv_layer = tf.nn.bias_add(conv_layer, bias)\n",
    "    conv_layer = tf.nn.relu(conv_layer)\n",
    "    \n",
    "    # Apply Max Pooling\n",
    "    conv_layer = tf.nn.max_pool(\n",
    "        conv_layer,\n",
    "        ksize=[1, 4, 4, 1],\n",
    "        strides=[1, 2, 2, 1],\n",
    "        padding='SAME')\n",
    "    \n",
    "    #print(\"conv_layer shape after max pooling: \", conv_layer.get_shape().as_list())\n",
    "    \n",
    "    \n",
    "    return conv_layer \n",
    "\n",
    "\n",
    "\"\"\"\n",
    "DON'T MODIFY ANYTHING IN THIS CELL THAT IS BELOW THIS LINE\n",
    "\"\"\"\n",
    "tests.test_con_pool(conv2d_maxpool)"
   ]
  },
  {
   "cell_type": "markdown",
   "metadata": {
    "deletable": true,
    "editable": true
   },
   "source": [
    "### Flatten Layer\n",
    "Implement the `flatten` function to change the dimension of `x_tensor` from a 4-D tensor to a 2-D tensor.  The output should be the shape (*Batch Size*, *Flattened Image Size*). Shortcut option: you can use classes from the [TensorFlow Layers](https://www.tensorflow.org/api_docs/python/tf/layers) or [TensorFlow Layers (contrib)](https://www.tensorflow.org/api_guides/python/contrib.layers) packages for this layer. For more of a challenge, only use other TensorFlow packages."
   ]
  },
  {
   "cell_type": "code",
   "execution_count": 9,
   "metadata": {
    "collapsed": false,
    "deletable": true,
    "editable": true
   },
   "outputs": [
    {
     "name": "stdout",
     "output_type": "stream",
     "text": [
      "Tests Passed\n"
     ]
    }
   ],
   "source": [
    "def flatten(x_tensor):\n",
    "    \"\"\"\n",
    "    Flatten x_tensor to (Batch Size, Flattened Image Size)\n",
    "    : x_tensor: A tensor of size (Batch Size, ...), where ... are the image dimensions.\n",
    "    : return: A tensor of size (Batch Size, Flattened Image Size).\n",
    "    \"\"\"\n",
    "    #print(\"============Flatten Layer============\")\n",
    "    #print(\"x_tensor shape: \", x_tensor.get_shape().as_list())\n",
    "    \n",
    "    flattened_image_size = x_tensor.get_shape().as_list()[1] * x_tensor.get_shape().as_list()[2] * x_tensor.get_shape().as_list()[3]\n",
    "    flattened = tf.reshape(x_tensor, [-1, flattened_image_size])\n",
    "    \n",
    "    #print(\"flattened shape: \", flattened.get_shape().as_list())\n",
    "    return flattened\n",
    "\n",
    "\n",
    "\"\"\"\n",
    "DON'T MODIFY ANYTHING IN THIS CELL THAT IS BELOW THIS LINE\n",
    "\"\"\"\n",
    "tests.test_flatten(flatten)"
   ]
  },
  {
   "cell_type": "markdown",
   "metadata": {
    "deletable": true,
    "editable": true
   },
   "source": [
    "### Fully-Connected Layer\n",
    "Implement the `fully_conn` function to apply a fully connected layer to `x_tensor` with the shape (*Batch Size*, *num_outputs*). Shortcut option: you can use classes from the [TensorFlow Layers](https://www.tensorflow.org/api_docs/python/tf/layers) or [TensorFlow Layers (contrib)](https://www.tensorflow.org/api_guides/python/contrib.layers) packages for this layer. For more of a challenge, only use other TensorFlow packages."
   ]
  },
  {
   "cell_type": "code",
   "execution_count": 85,
   "metadata": {
    "collapsed": false,
    "deletable": true,
    "editable": true
   },
   "outputs": [
    {
     "name": "stdout",
     "output_type": "stream",
     "text": [
      "Tests Passed\n"
     ]
    }
   ],
   "source": [
    "def fully_conn(x_tensor, num_outputs):\n",
    "    \"\"\"\n",
    "    Apply a fully connected layer to x_tensor using weight and bias\n",
    "    : x_tensor: A 2-D tensor where the first dimension is batch size.\n",
    "    : num_outputs: The number of output that the new tensor should be.\n",
    "    : return: A 2-D tensor where the second dimension is num_outputs.\n",
    "    \"\"\"\n",
    "    #print(\"============Fully Connected Layer============\")\n",
    "    #print(\"x_tensor shape: \", x_tensor.get_shape().as_list())\n",
    "    \n",
    "    flattened_image_width = x_tensor.get_shape().as_list()[1]\n",
    "    weight = tf.Variable(tf.truncated_normal([flattened_image_width,num_outputs]))\n",
    "    bias = tf.Variable(tf.zeros(num_outputs))\n",
    "    \n",
    "    fc = tf.reshape(x_tensor, [-1, flattened_image_width])\n",
    "    fc = tf.add(tf.matmul(fc, weight), bias)\n",
    "    fc = tf.nn.relu(fc)\n",
    "    \n",
    "    #print(\"num_outputs: \", num_outputs)\n",
    "    #print(\"Fully connected layer shape: \", fc.get_shape().as_list())\n",
    "    \n",
    "    return fc\n",
    "\n",
    "\n",
    "\"\"\"\n",
    "DON'T MODIFY ANYTHING IN THIS CELL THAT IS BELOW THIS LINE\n",
    "\"\"\"\n",
    "tests.test_fully_conn(fully_conn)"
   ]
  },
  {
   "cell_type": "markdown",
   "metadata": {
    "deletable": true,
    "editable": true
   },
   "source": [
    "### Output Layer\n",
    "Implement the `output` function to apply a fully connected layer to `x_tensor` with the shape (*Batch Size*, *num_outputs*). Shortcut option: you can use classes from the [TensorFlow Layers](https://www.tensorflow.org/api_docs/python/tf/layers) or [TensorFlow Layers (contrib)](https://www.tensorflow.org/api_guides/python/contrib.layers) packages for this layer. For more of a challenge, only use other TensorFlow packages.\n",
    "\n",
    "**Note:** Activation, softmax, or cross entropy should **not** be applied to this."
   ]
  },
  {
   "cell_type": "code",
   "execution_count": 86,
   "metadata": {
    "collapsed": false,
    "deletable": true,
    "editable": true
   },
   "outputs": [
    {
     "name": "stdout",
     "output_type": "stream",
     "text": [
      "Tests Passed\n"
     ]
    }
   ],
   "source": [
    "def output(x_tensor, num_outputs):\n",
    "    \"\"\"\n",
    "    Apply a output layer to x_tensor using weight and bias\n",
    "    : x_tensor: A 2-D tensor where the first dimension is batch size.\n",
    "    : num_outputs: The number of output that the new tensor should be.\n",
    "    : return: A 2-D tensor where the second dimension is num_outputs.\n",
    "    \"\"\"\n",
    "    #print(\"============Output Layer============\")\n",
    "    #print(\"x_tensor shape: \", x_tensor.get_shape().as_list())\n",
    "    flattened_image_width = x_tensor.get_shape().as_list()[1]\n",
    "    out_weight = tf.Variable(tf.random_normal([flattened_image_width, num_outputs]))\n",
    "    out_bias = tf.Variable(tf.random_normal([num_outputs]))\n",
    "    \n",
    "    out_layer = tf.add(tf.matmul(x_tensor, out_weight), out_bias)\n",
    "    #print(\"out_layer shape: \", out_layer.get_shape().as_list())\n",
    "    \n",
    "    return out_layer\n",
    "\n",
    "\n",
    "\"\"\"\n",
    "DON'T MODIFY ANYTHING IN THIS CELL THAT IS BELOW THIS LINE\n",
    "\"\"\"\n",
    "tests.test_output(output)"
   ]
  },
  {
   "cell_type": "markdown",
   "metadata": {
    "deletable": true,
    "editable": true
   },
   "source": [
    "### Create Convolutional Model\n",
    "Implement the function `conv_net` to create a convolutional neural network model. The function takes in a batch of images, `x`, and outputs logits.  Use the layers you created above to create this model:\n",
    "\n",
    "* Apply 1, 2, or 3 Convolution and Max Pool layers\n",
    "* Apply a Flatten Layer\n",
    "* Apply 1, 2, or 3 Fully Connected Layers\n",
    "* Apply an Output Layer\n",
    "* Return the output\n",
    "* Apply [TensorFlow's Dropout](https://www.tensorflow.org/api_docs/python/tf/nn/dropout) to one or more layers in the model using `keep_prob`. "
   ]
  },
  {
   "cell_type": "code",
   "execution_count": 88,
   "metadata": {
    "collapsed": false,
    "deletable": true,
    "editable": true
   },
   "outputs": [
    {
     "name": "stdout",
     "output_type": "stream",
     "text": [
      "Neural Network Built!\n"
     ]
    }
   ],
   "source": [
    "def conv_net(x, keep_prob):\n",
    "    \"\"\"\n",
    "    Create a convolutional neural network model\n",
    "    : x: Placeholder tensor that holds image data.\n",
    "    : keep_prob: Placeholder tensor that hold dropout keep probability.\n",
    "    : return: Tensor that represents logits\n",
    "    \"\"\"\n",
    "    x_tensor = x\n",
    "    conv_ksize = (2,2)\n",
    "    conv_strides = (1,1)\n",
    "    pool_ksize = (4,4)\n",
    "    pool_strides = (1,1)\n",
    "    num_classes = 10\n",
    "    \n",
    "    #print(\"x_tensor: \", x_tensor)\n",
    "    \n",
    "    # TODO: Apply 1, 2, or 3 Convolution and Max Pool layers\n",
    "    # Play around with different number of outputs, kernel size and stride\n",
    "    # Function Definition from Above:\n",
    "    conv_num_outputs = 64\n",
    "    conv1 = conv2d_maxpool(x_tensor, conv_num_outputs, conv_ksize, conv_strides, pool_ksize, pool_strides)\n",
    "    \n",
    "    conv_num_outputs = 256\n",
    "    conv2 = conv2d_maxpool(conv1, conv_num_outputs, conv_ksize, conv_strides, pool_ksize, pool_strides)\n",
    "    \n",
    "    #print(\"============Flatten Layer============\")\n",
    "\n",
    "    # TODO: Apply a Flatten Layer\n",
    "    # Function Definition from Above:\n",
    "    flat = flatten(conv2)\n",
    "    \n",
    "    #print(\"flattened shape: \", flat.get_shape().as_list())\n",
    "\n",
    "    # TODO: Apply 1, 2, or 3 Fully Connected Layers\n",
    "    #    Play around with different number of outputs\n",
    "    # Function Definition from Above:\n",
    "    num_outputs = 512\n",
    "    fc1 = fully_conn(flat, num_outputs)\n",
    "    fc2 = fully_conn(fc1, num_outputs)\n",
    "    \n",
    "    # TODO: Apply an Output Layer\n",
    "    # Set this to the number of classes\n",
    "    # Function Definition from Above:\n",
    "    out = output(fc2, num_classes)\n",
    "    out = tf.nn.dropout(out, keep_prob)\n",
    "    #print(\"out shape: \", out.get_shape().as_list())\n",
    "    \n",
    "    # TODO: return output\n",
    "    return out\n",
    "\n",
    "\n",
    "\"\"\"\n",
    "DON'T MODIFY ANYTHING IN THIS CELL THAT IS BELOW THIS LINE\n",
    "\"\"\"\n",
    "\n",
    "##############################\n",
    "## Build the Neural Network ##\n",
    "##############################\n",
    "\n",
    "# Remove previous weights, bias, inputs, etc..\n",
    "tf.reset_default_graph()\n",
    "\n",
    "# Inputs\n",
    "x = neural_net_image_input((32, 32, 3))\n",
    "y = neural_net_label_input(10)\n",
    "keep_prob = neural_net_keep_prob_input()\n",
    "\n",
    "# Model\n",
    "logits = conv_net(x, keep_prob)\n",
    "\n",
    "# Name logits Tensor, so that is can be loaded from disk after training\n",
    "logits = tf.identity(logits, name='logits')\n",
    "\n",
    "# Loss and Optimizer\n",
    "cost = tf.reduce_mean(tf.nn.softmax_cross_entropy_with_logits(logits=logits, labels=y))\n",
    "optimizer = tf.train.AdamOptimizer().minimize(cost)\n",
    "\n",
    "# Accuracy\n",
    "correct_pred = tf.equal(tf.argmax(logits, 1), tf.argmax(y, 1))\n",
    "accuracy = tf.reduce_mean(tf.cast(correct_pred, tf.float32), name='accuracy')\n",
    "\n",
    "tests.test_conv_net(conv_net)"
   ]
  },
  {
   "cell_type": "markdown",
   "metadata": {
    "deletable": true,
    "editable": true
   },
   "source": [
    "## Train the Neural Network\n",
    "### Single Optimization\n",
    "Implement the function `train_neural_network` to do a single optimization.  The optimization should use `optimizer` to optimize in `session` with a `feed_dict` of the following:\n",
    "* `x` for image input\n",
    "* `y` for labels\n",
    "* `keep_prob` for keep probability for dropout\n",
    "\n",
    "This function will be called for each batch, so `tf.global_variables_initializer()` has already been called.\n",
    "\n",
    "Note: Nothing needs to be returned. This function is only optimizing the neural network."
   ]
  },
  {
   "cell_type": "code",
   "execution_count": 89,
   "metadata": {
    "collapsed": false,
    "deletable": true,
    "editable": true
   },
   "outputs": [
    {
     "name": "stdout",
     "output_type": "stream",
     "text": [
      "Tests Passed\n"
     ]
    }
   ],
   "source": [
    "def train_neural_network(session, optimizer, keep_probability, feature_batch, label_batch):\n",
    "    \"\"\"\n",
    "    Optimize the session on a batch of images and labels\n",
    "    : session: Current TensorFlow session\n",
    "    : optimizer: TensorFlow optimizer function\n",
    "    : keep_probability: keep probability\n",
    "    : feature_batch: Batch of Numpy image data\n",
    "    : label_batch: Batch of Numpy label data\n",
    "    \"\"\"\n",
    "    feature_batch = np.array(feature_batch, dtype=float)\n",
    "    label_batch = np.array(label_batch, dtype=float)\n",
    "    feature_shape = feature_batch.shape\n",
    "    label_shape = label_batch.shape\n",
    "    \n",
    "    #print(\"x: \", x)\n",
    "    #print(\"feature_batch shape: \", feature_batch.shape)\n",
    "    #print(\"y: \", y)\n",
    "    #print(\"label_batch shape: \", label_batch.shape)\n",
    "    #print(\"keep_prob: \", keep_prob)\n",
    "\n",
    "    # TODO: Implement Function\n",
    "    session.run(\n",
    "            optimizer, feed_dict = {x: feature_batch, y: label_batch, keep_prob: keep_probability})\n",
    "\n",
    "\"\"\"\n",
    "DON'T MODIFY ANYTHING IN THIS CELL THAT IS BELOW THIS LINE\n",
    "\"\"\"\n",
    "tests.test_train_nn(train_neural_network)"
   ]
  },
  {
   "cell_type": "markdown",
   "metadata": {
    "deletable": true,
    "editable": true
   },
   "source": [
    "### Show Stats\n",
    "Implement the function `print_stats` to print loss and validation accuracy.  Use the global variables `valid_features` and `valid_labels` to calculate validation accuracy.  Use a keep probability of `1.0` to calculate the loss and validation accuracy."
   ]
  },
  {
   "cell_type": "code",
   "execution_count": 90,
   "metadata": {
    "collapsed": false,
    "deletable": true,
    "editable": true
   },
   "outputs": [],
   "source": [
    "def print_stats(session, feature_batch, label_batch, cost, accuracy):\n",
    "    \"\"\"\n",
    "    Print information about loss and validation accuracy\n",
    "    : session: Current TensorFlow session\n",
    "    : feature_batch: Batch of Numpy image data\n",
    "    : label_batch: Batch of Numpy label data\n",
    "    : cost: TensorFlow cost function\n",
    "    : accuracy: TensorFlow accuracy function\n",
    "    \"\"\"\n",
    "    # TODO: Implement Function\n",
    "    loss = session.run(cost, feed_dict={x: feature_batch, y: label_batch, keep_prob: 1.0})\n",
    "    train_acc = session.run(accuracy, feed_dict={x: feature_batch, y: label_batch, keep_prob: 1.0})\n",
    "    valid_acc = sess.run(accuracy, feed_dict= {\n",
    "        x: valid_features,\n",
    "        y: valid_labels,\n",
    "        keep_prob: 1.0\n",
    "    })\n",
    "\n",
    "    \n",
    "    print('Loss: {:>10.4f} Training Accuracy: {:.6f} Validation Accuracy {:.6f}'.format\n",
    "          (loss, train_acc, valid_acc))\n"
   ]
  },
  {
   "cell_type": "markdown",
   "metadata": {
    "deletable": true,
    "editable": true
   },
   "source": [
    "### Hyperparameters\n",
    "Tune the following parameters:\n",
    "* Set `epochs` to the number of iterations until the network stops learning or start overfitting\n",
    "* Set `batch_size` to the highest number that your machine has memory for.  Most people set them to common sizes of memory:\n",
    " * 64\n",
    " * 128\n",
    " * 256\n",
    " * ...\n",
    "* Set `keep_probability` to the probability of keeping a node using dropout"
   ]
  },
  {
   "cell_type": "code",
   "execution_count": 96,
   "metadata": {
    "collapsed": true,
    "deletable": true,
    "editable": true
   },
   "outputs": [],
   "source": [
    "# TODO: Tune Parameters\n",
    "epochs = 22\n",
    "batch_size = 256\n",
    "keep_probability = 0.9"
   ]
  },
  {
   "cell_type": "markdown",
   "metadata": {
    "deletable": true,
    "editable": true
   },
   "source": [
    "### Train on a Single CIFAR-10 Batch\n",
    "Instead of training the neural network on all the CIFAR-10 batches of data, let's use a single batch. This should save time while you iterate on the model to get a better accuracy.  Once the final validation accuracy is 50% or greater, run the model on all the data in the next section."
   ]
  },
  {
   "cell_type": "code",
   "execution_count": 97,
   "metadata": {
    "collapsed": false,
    "deletable": true,
    "editable": true
   },
   "outputs": [
    {
     "name": "stdout",
     "output_type": "stream",
     "text": [
      "Checking the Training on a Single Batch...\n",
      "Epoch  1, CIFAR-10 Batch 1:  Loss: 50729.0117 Training Accuracy: 0.300000 Validation Accuracy 0.208200\n",
      "Epoch  2, CIFAR-10 Batch 1:  Loss: 29819.9414 Training Accuracy: 0.400000 Validation Accuracy 0.245600\n",
      "Epoch  3, CIFAR-10 Batch 1:  Loss: 20839.4414 Training Accuracy: 0.400000 Validation Accuracy 0.278600\n",
      "Epoch  4, CIFAR-10 Batch 1:  Loss: 16923.8359 Training Accuracy: 0.575000 Validation Accuracy 0.299000\n",
      "Epoch  5, CIFAR-10 Batch 1:  Loss: 14174.2061 Training Accuracy: 0.525000 Validation Accuracy 0.326200\n",
      "Epoch  6, CIFAR-10 Batch 1:  Loss: 11459.2402 Training Accuracy: 0.625000 Validation Accuracy 0.340800\n",
      "Epoch  7, CIFAR-10 Batch 1:  Loss:  9961.1348 Training Accuracy: 0.600000 Validation Accuracy 0.351400\n",
      "Epoch  8, CIFAR-10 Batch 1:  Loss: 10283.9141 Training Accuracy: 0.650000 Validation Accuracy 0.351200\n",
      "Epoch  9, CIFAR-10 Batch 1:  Loss:  9433.7812 Training Accuracy: 0.600000 Validation Accuracy 0.348600\n",
      "Epoch 10, CIFAR-10 Batch 1:  Loss:  6387.4272 Training Accuracy: 0.700000 Validation Accuracy 0.373600\n",
      "Epoch 11, CIFAR-10 Batch 1:  Loss:  5590.9424 Training Accuracy: 0.750000 Validation Accuracy 0.375000\n",
      "Epoch 12, CIFAR-10 Batch 1:  Loss:  4924.7910 Training Accuracy: 0.700000 Validation Accuracy 0.368800\n",
      "Epoch 13, CIFAR-10 Batch 1:  Loss:  6168.2461 Training Accuracy: 0.625000 Validation Accuracy 0.345200\n",
      "Epoch 14, CIFAR-10 Batch 1:  Loss:  3017.5879 Training Accuracy: 0.800000 Validation Accuracy 0.392000\n",
      "Epoch 15, CIFAR-10 Batch 1:  Loss:  4059.0210 Training Accuracy: 0.750000 Validation Accuracy 0.365600\n",
      "Epoch 16, CIFAR-10 Batch 1:  Loss:  3332.0781 Training Accuracy: 0.775000 Validation Accuracy 0.364400\n",
      "Epoch 17, CIFAR-10 Batch 1:  Loss:  4098.3447 Training Accuracy: 0.700000 Validation Accuracy 0.399200\n",
      "Epoch 18, CIFAR-10 Batch 1:  Loss:  3563.7852 Training Accuracy: 0.800000 Validation Accuracy 0.411200\n",
      "Epoch 19, CIFAR-10 Batch 1:  Loss:  3532.2595 Training Accuracy: 0.700000 Validation Accuracy 0.405600\n",
      "Epoch 20, CIFAR-10 Batch 1:  Loss:  2997.5146 Training Accuracy: 0.750000 Validation Accuracy 0.414000\n",
      "Epoch 21, CIFAR-10 Batch 1:  Loss:  2313.8660 Training Accuracy: 0.850000 Validation Accuracy 0.438600\n",
      "Epoch 22, CIFAR-10 Batch 1:  Loss:  2699.5076 Training Accuracy: 0.875000 Validation Accuracy 0.444400\n"
     ]
    }
   ],
   "source": [
    "\"\"\"\n",
    "DON'T MODIFY ANYTHING IN THIS CELL\n",
    "\"\"\"\n",
    "print('Checking the Training on a Single Batch...')\n",
    "with tf.Session() as sess:\n",
    "    # Initializing the variables\n",
    "    sess.run(tf.global_variables_initializer())\n",
    "    \n",
    "    # Training cycle\n",
    "    for epoch in range(epochs):\n",
    "        batch_i = 1\n",
    "        for batch_features, batch_labels in helper.load_preprocess_training_batch(batch_i, batch_size):\n",
    "            train_neural_network(sess, optimizer, keep_probability, batch_features, batch_labels)\n",
    "        print('Epoch {:>2}, CIFAR-10 Batch {}:  '.format(epoch + 1, batch_i), end='')\n",
    "        print_stats(sess, batch_features, batch_labels, cost, accuracy)"
   ]
  },
  {
   "cell_type": "markdown",
   "metadata": {
    "deletable": true,
    "editable": true
   },
   "source": [
    "### Fully Train the Model\n",
    "Now that you got a good accuracy with a single CIFAR-10 batch, try it with all five batches."
   ]
  },
  {
   "cell_type": "code",
   "execution_count": 98,
   "metadata": {
    "collapsed": false,
    "deletable": true,
    "editable": true
   },
   "outputs": [
    {
     "name": "stdout",
     "output_type": "stream",
     "text": [
      "Training...\n",
      "Epoch  1, CIFAR-10 Batch 1:  Loss: 76251.7031 Training Accuracy: 0.250000 Validation Accuracy 0.238000\n",
      "Epoch  1, CIFAR-10 Batch 2:  Loss: 33003.6602 Training Accuracy: 0.375000 Validation Accuracy 0.246200\n",
      "Epoch  1, CIFAR-10 Batch 3:  Loss: 41970.0664 Training Accuracy: 0.450000 Validation Accuracy 0.286600\n",
      "Epoch  1, CIFAR-10 Batch 4:  Loss: 32471.4316 Training Accuracy: 0.375000 Validation Accuracy 0.309800\n",
      "Epoch  1, CIFAR-10 Batch 5:  Loss: 33855.5430 Training Accuracy: 0.275000 Validation Accuracy 0.328400\n",
      "Epoch  2, CIFAR-10 Batch 1:  Loss: 31921.9414 Training Accuracy: 0.375000 Validation Accuracy 0.339400\n",
      "Epoch  2, CIFAR-10 Batch 2:  Loss: 17120.2012 Training Accuracy: 0.525000 Validation Accuracy 0.348000\n",
      "Epoch  2, CIFAR-10 Batch 3:  Loss: 19930.4531 Training Accuracy: 0.425000 Validation Accuracy 0.347000\n",
      "Epoch  2, CIFAR-10 Batch 4:  Loss: 20647.3516 Training Accuracy: 0.450000 Validation Accuracy 0.352400\n",
      "Epoch  2, CIFAR-10 Batch 5:  Loss: 26665.8125 Training Accuracy: 0.350000 Validation Accuracy 0.346800\n",
      "Epoch  3, CIFAR-10 Batch 1:  Loss: 25379.7480 Training Accuracy: 0.475000 Validation Accuracy 0.381200\n",
      "Epoch  3, CIFAR-10 Batch 2:  Loss: 10005.3105 Training Accuracy: 0.550000 Validation Accuracy 0.354400\n",
      "Epoch  3, CIFAR-10 Batch 3:  Loss: 11472.8926 Training Accuracy: 0.475000 Validation Accuracy 0.390800\n",
      "Epoch  3, CIFAR-10 Batch 4:  Loss: 15905.4512 Training Accuracy: 0.525000 Validation Accuracy 0.385800\n",
      "Epoch  3, CIFAR-10 Batch 5:  Loss: 15342.7793 Training Accuracy: 0.475000 Validation Accuracy 0.407000\n",
      "Epoch  4, CIFAR-10 Batch 1:  Loss: 18832.1992 Training Accuracy: 0.550000 Validation Accuracy 0.418400\n",
      "Epoch  4, CIFAR-10 Batch 2:  Loss:  6608.7539 Training Accuracy: 0.600000 Validation Accuracy 0.405600\n",
      "Epoch  4, CIFAR-10 Batch 3:  Loss:  9629.9170 Training Accuracy: 0.650000 Validation Accuracy 0.412800\n",
      "Epoch  4, CIFAR-10 Batch 4:  Loss:  8445.8457 Training Accuracy: 0.550000 Validation Accuracy 0.439600\n",
      "Epoch  4, CIFAR-10 Batch 5:  Loss: 13268.4111 Training Accuracy: 0.500000 Validation Accuracy 0.401800\n",
      "Epoch  5, CIFAR-10 Batch 1:  Loss: 15256.4268 Training Accuracy: 0.650000 Validation Accuracy 0.427600\n",
      "Epoch  5, CIFAR-10 Batch 2:  Loss:  7432.1929 Training Accuracy: 0.600000 Validation Accuracy 0.439400\n",
      "Epoch  5, CIFAR-10 Batch 3:  Loss:  6717.9180 Training Accuracy: 0.650000 Validation Accuracy 0.430400\n",
      "Epoch  5, CIFAR-10 Batch 4:  Loss:  4872.7754 Training Accuracy: 0.625000 Validation Accuracy 0.462200\n",
      "Epoch  5, CIFAR-10 Batch 5:  Loss:  9748.7402 Training Accuracy: 0.550000 Validation Accuracy 0.431400\n",
      "Epoch  6, CIFAR-10 Batch 1:  Loss: 11830.2305 Training Accuracy: 0.550000 Validation Accuracy 0.434800\n",
      "Epoch  6, CIFAR-10 Batch 2:  Loss:  6470.0205 Training Accuracy: 0.575000 Validation Accuracy 0.429600\n",
      "Epoch  6, CIFAR-10 Batch 3:  Loss:  4755.2710 Training Accuracy: 0.625000 Validation Accuracy 0.440800\n",
      "Epoch  6, CIFAR-10 Batch 4:  Loss:  2321.7527 Training Accuracy: 0.750000 Validation Accuracy 0.471000\n",
      "Epoch  6, CIFAR-10 Batch 5:  Loss:  7279.5591 Training Accuracy: 0.625000 Validation Accuracy 0.453800\n",
      "Epoch  7, CIFAR-10 Batch 1:  Loss:  8352.7402 Training Accuracy: 0.575000 Validation Accuracy 0.464000\n",
      "Epoch  7, CIFAR-10 Batch 2:  Loss:  4944.1758 Training Accuracy: 0.650000 Validation Accuracy 0.453400\n",
      "Epoch  7, CIFAR-10 Batch 3:  Loss:  3107.5193 Training Accuracy: 0.800000 Validation Accuracy 0.449800\n",
      "Epoch  7, CIFAR-10 Batch 4:  Loss:  2351.8267 Training Accuracy: 0.800000 Validation Accuracy 0.481200\n",
      "Epoch  7, CIFAR-10 Batch 5:  Loss:  5958.7881 Training Accuracy: 0.650000 Validation Accuracy 0.480800\n",
      "Epoch  8, CIFAR-10 Batch 1:  Loss:  6134.8672 Training Accuracy: 0.675000 Validation Accuracy 0.487600\n",
      "Epoch  8, CIFAR-10 Batch 2:  Loss:  5138.4082 Training Accuracy: 0.650000 Validation Accuracy 0.470800\n",
      "Epoch  8, CIFAR-10 Batch 3:  Loss:  2297.0430 Training Accuracy: 0.750000 Validation Accuracy 0.477400\n",
      "Epoch  8, CIFAR-10 Batch 4:  Loss:  1350.5236 Training Accuracy: 0.725000 Validation Accuracy 0.489400\n",
      "Epoch  8, CIFAR-10 Batch 5:  Loss:  5470.1104 Training Accuracy: 0.625000 Validation Accuracy 0.486600\n",
      "Epoch  9, CIFAR-10 Batch 1:  Loss:  4246.5195 Training Accuracy: 0.700000 Validation Accuracy 0.490600\n",
      "Epoch  9, CIFAR-10 Batch 2:  Loss:  3831.9553 Training Accuracy: 0.725000 Validation Accuracy 0.469600\n",
      "Epoch  9, CIFAR-10 Batch 3:  Loss:  2741.5945 Training Accuracy: 0.725000 Validation Accuracy 0.502600\n",
      "Epoch  9, CIFAR-10 Batch 4:  Loss:  1848.4791 Training Accuracy: 0.750000 Validation Accuracy 0.481600\n",
      "Epoch  9, CIFAR-10 Batch 5:  Loss:  3168.7314 Training Accuracy: 0.700000 Validation Accuracy 0.498800\n",
      "Epoch 10, CIFAR-10 Batch 1:  Loss:  4187.6904 Training Accuracy: 0.700000 Validation Accuracy 0.497400\n",
      "Epoch 10, CIFAR-10 Batch 2:  Loss:  2254.8899 Training Accuracy: 0.725000 Validation Accuracy 0.478200\n",
      "Epoch 10, CIFAR-10 Batch 3:  Loss:  1084.2579 Training Accuracy: 0.725000 Validation Accuracy 0.504600\n",
      "Epoch 10, CIFAR-10 Batch 4:  Loss:  1670.4279 Training Accuracy: 0.725000 Validation Accuracy 0.491200\n",
      "Epoch 10, CIFAR-10 Batch 5:  Loss:  2732.0315 Training Accuracy: 0.775000 Validation Accuracy 0.490000\n",
      "Epoch 11, CIFAR-10 Batch 1:  Loss:  4454.8799 Training Accuracy: 0.650000 Validation Accuracy 0.499800\n",
      "Epoch 11, CIFAR-10 Batch 2:  Loss:  1445.0215 Training Accuracy: 0.800000 Validation Accuracy 0.501400\n",
      "Epoch 11, CIFAR-10 Batch 3:  Loss:  1557.5146 Training Accuracy: 0.850000 Validation Accuracy 0.474800\n",
      "Epoch 11, CIFAR-10 Batch 4:  Loss:   704.2427 Training Accuracy: 0.825000 Validation Accuracy 0.512400\n",
      "Epoch 11, CIFAR-10 Batch 5:  Loss:  2239.8408 Training Accuracy: 0.725000 Validation Accuracy 0.490200\n",
      "Epoch 12, CIFAR-10 Batch 1:  Loss:  3027.6719 Training Accuracy: 0.700000 Validation Accuracy 0.502400\n",
      "Epoch 12, CIFAR-10 Batch 2:  Loss:  1243.0601 Training Accuracy: 0.675000 Validation Accuracy 0.479200\n",
      "Epoch 12, CIFAR-10 Batch 3:  Loss:  1075.2908 Training Accuracy: 0.825000 Validation Accuracy 0.486200\n",
      "Epoch 12, CIFAR-10 Batch 4:  Loss:  1120.4335 Training Accuracy: 0.825000 Validation Accuracy 0.509400\n",
      "Epoch 12, CIFAR-10 Batch 5:  Loss:  2057.4443 Training Accuracy: 0.675000 Validation Accuracy 0.499400\n",
      "Epoch 13, CIFAR-10 Batch 1:  Loss:  2312.3313 Training Accuracy: 0.775000 Validation Accuracy 0.498800\n",
      "Epoch 13, CIFAR-10 Batch 2:  Loss:  1216.4698 Training Accuracy: 0.725000 Validation Accuracy 0.487800\n",
      "Epoch 13, CIFAR-10 Batch 3:  Loss:  1614.8398 Training Accuracy: 0.775000 Validation Accuracy 0.465200\n",
      "Epoch 13, CIFAR-10 Batch 4:  Loss:   763.6865 Training Accuracy: 0.775000 Validation Accuracy 0.512000\n",
      "Epoch 13, CIFAR-10 Batch 5:  Loss:  2159.7439 Training Accuracy: 0.800000 Validation Accuracy 0.502000\n",
      "Epoch 14, CIFAR-10 Batch 1:  Loss:  1741.7919 Training Accuracy: 0.750000 Validation Accuracy 0.503600\n",
      "Epoch 14, CIFAR-10 Batch 2:  Loss:   805.1942 Training Accuracy: 0.825000 Validation Accuracy 0.497600\n",
      "Epoch 14, CIFAR-10 Batch 3:  Loss:   480.5797 Training Accuracy: 0.875000 Validation Accuracy 0.507000\n",
      "Epoch 14, CIFAR-10 Batch 4:  Loss:   799.5216 Training Accuracy: 0.800000 Validation Accuracy 0.511200\n",
      "Epoch 14, CIFAR-10 Batch 5:  Loss:  1643.2666 Training Accuracy: 0.700000 Validation Accuracy 0.502000\n",
      "Epoch 15, CIFAR-10 Batch 1:  Loss:   877.8526 Training Accuracy: 0.875000 Validation Accuracy 0.517400\n",
      "Epoch 15, CIFAR-10 Batch 2:  Loss:   565.5977 Training Accuracy: 0.875000 Validation Accuracy 0.511600\n",
      "Epoch 15, CIFAR-10 Batch 3:  Loss:   570.9614 Training Accuracy: 0.875000 Validation Accuracy 0.472200\n",
      "Epoch 15, CIFAR-10 Batch 4:  Loss:   339.7555 Training Accuracy: 0.900000 Validation Accuracy 0.518600\n",
      "Epoch 15, CIFAR-10 Batch 5:  Loss:  1575.9084 Training Accuracy: 0.750000 Validation Accuracy 0.504200\n",
      "Epoch 16, CIFAR-10 Batch 1:  Loss:   986.2592 Training Accuracy: 0.850000 Validation Accuracy 0.528000\n",
      "Epoch 16, CIFAR-10 Batch 2:  Loss:   690.7532 Training Accuracy: 0.850000 Validation Accuracy 0.514400\n",
      "Epoch 16, CIFAR-10 Batch 3:  Loss:     8.1456 Training Accuracy: 0.975000 Validation Accuracy 0.528600\n",
      "Epoch 16, CIFAR-10 Batch 4:  Loss:   404.6023 Training Accuracy: 0.900000 Validation Accuracy 0.519600\n",
      "Epoch 16, CIFAR-10 Batch 5:  Loss:   709.8981 Training Accuracy: 0.825000 Validation Accuracy 0.516000\n",
      "Epoch 17, CIFAR-10 Batch 1:  Loss:  1327.4105 Training Accuracy: 0.775000 Validation Accuracy 0.532200\n",
      "Epoch 17, CIFAR-10 Batch 2:  Loss:  1011.4180 Training Accuracy: 0.850000 Validation Accuracy 0.509800\n",
      "Epoch 17, CIFAR-10 Batch 3:  Loss:   174.6137 Training Accuracy: 0.925000 Validation Accuracy 0.530800\n",
      "Epoch 17, CIFAR-10 Batch 4:  Loss:   292.0042 Training Accuracy: 0.925000 Validation Accuracy 0.541000\n",
      "Epoch 17, CIFAR-10 Batch 5:  Loss:   806.0606 Training Accuracy: 0.775000 Validation Accuracy 0.530400\n",
      "Epoch 18, CIFAR-10 Batch 1:  Loss:   593.7771 Training Accuracy: 0.950000 Validation Accuracy 0.526600\n",
      "Epoch 18, CIFAR-10 Batch 2:  Loss:   526.4343 Training Accuracy: 0.825000 Validation Accuracy 0.519800\n",
      "Epoch 18, CIFAR-10 Batch 3:  Loss:    83.4360 Training Accuracy: 0.975000 Validation Accuracy 0.536200\n",
      "Epoch 18, CIFAR-10 Batch 4:  Loss:   523.2141 Training Accuracy: 0.875000 Validation Accuracy 0.529600\n",
      "Epoch 18, CIFAR-10 Batch 5:  Loss:   731.8198 Training Accuracy: 0.800000 Validation Accuracy 0.506000\n",
      "Epoch 19, CIFAR-10 Batch 1:  Loss:   724.9595 Training Accuracy: 0.900000 Validation Accuracy 0.535800\n",
      "Epoch 19, CIFAR-10 Batch 2:  Loss:   513.2321 Training Accuracy: 0.825000 Validation Accuracy 0.527200\n",
      "Epoch 19, CIFAR-10 Batch 3:  Loss:    62.0169 Training Accuracy: 0.950000 Validation Accuracy 0.535400\n",
      "Epoch 19, CIFAR-10 Batch 4:  Loss:   642.4173 Training Accuracy: 0.850000 Validation Accuracy 0.516800\n",
      "Epoch 19, CIFAR-10 Batch 5:  Loss:  1262.8918 Training Accuracy: 0.800000 Validation Accuracy 0.496000\n",
      "Epoch 20, CIFAR-10 Batch 1:  Loss:  1463.5542 Training Accuracy: 0.900000 Validation Accuracy 0.522200\n",
      "Epoch 20, CIFAR-10 Batch 2:  Loss:   884.5312 Training Accuracy: 0.800000 Validation Accuracy 0.503600\n",
      "Epoch 20, CIFAR-10 Batch 3:  Loss:   451.8976 Training Accuracy: 0.900000 Validation Accuracy 0.513400\n",
      "Epoch 20, CIFAR-10 Batch 4:  Loss:   426.5959 Training Accuracy: 0.900000 Validation Accuracy 0.523400\n",
      "Epoch 20, CIFAR-10 Batch 5:  Loss:  1137.2990 Training Accuracy: 0.800000 Validation Accuracy 0.503600\n",
      "Epoch 21, CIFAR-10 Batch 1:  Loss:  1056.9209 Training Accuracy: 0.825000 Validation Accuracy 0.521600\n",
      "Epoch 21, CIFAR-10 Batch 2:  Loss:   296.1269 Training Accuracy: 0.850000 Validation Accuracy 0.508600\n",
      "Epoch 21, CIFAR-10 Batch 3:  Loss:    59.2258 Training Accuracy: 0.950000 Validation Accuracy 0.545600\n",
      "Epoch 21, CIFAR-10 Batch 4:  Loss:   426.1478 Training Accuracy: 0.850000 Validation Accuracy 0.523600\n",
      "Epoch 21, CIFAR-10 Batch 5:  Loss:   233.8438 Training Accuracy: 0.900000 Validation Accuracy 0.527000\n",
      "Epoch 22, CIFAR-10 Batch 1:  Loss:   843.9306 Training Accuracy: 0.925000 Validation Accuracy 0.524400\n",
      "Epoch 22, CIFAR-10 Batch 2:  Loss:   471.9229 Training Accuracy: 0.875000 Validation Accuracy 0.521000\n",
      "Epoch 22, CIFAR-10 Batch 3:  Loss:   139.7503 Training Accuracy: 0.925000 Validation Accuracy 0.523400\n",
      "Epoch 22, CIFAR-10 Batch 4:  Loss:   501.7716 Training Accuracy: 0.825000 Validation Accuracy 0.510800\n",
      "Epoch 22, CIFAR-10 Batch 5:  Loss:   494.0194 Training Accuracy: 0.875000 Validation Accuracy 0.528600\n"
     ]
    }
   ],
   "source": [
    "\"\"\"\n",
    "DON'T MODIFY ANYTHING IN THIS CELL\n",
    "\"\"\"\n",
    "save_model_path = './image_classification'\n",
    "\n",
    "print('Training...')\n",
    "with tf.Session() as sess:\n",
    "    # Initializing the variables\n",
    "    sess.run(tf.global_variables_initializer())\n",
    "    \n",
    "    # Training cycle\n",
    "    for epoch in range(epochs):\n",
    "        # Loop over all batches\n",
    "        n_batches = 5\n",
    "        for batch_i in range(1, n_batches + 1):\n",
    "            for batch_features, batch_labels in helper.load_preprocess_training_batch(batch_i, batch_size):\n",
    "                train_neural_network(sess, optimizer, keep_probability, batch_features, batch_labels)\n",
    "            print('Epoch {:>2}, CIFAR-10 Batch {}:  '.format(epoch + 1, batch_i), end='')\n",
    "            print_stats(sess, batch_features, batch_labels, cost, accuracy)\n",
    "            \n",
    "    # Save Model\n",
    "    saver = tf.train.Saver()\n",
    "    save_path = saver.save(sess, save_model_path)"
   ]
  },
  {
   "cell_type": "markdown",
   "metadata": {
    "deletable": true,
    "editable": true
   },
   "source": [
    "# Checkpoint\n",
    "The model has been saved to disk.\n",
    "## Test Model\n",
    "Test your model against the test dataset.  This will be your final accuracy. You should have an accuracy greater than 50%. If you don't, keep tweaking the model architecture and parameters."
   ]
  },
  {
   "cell_type": "code",
   "execution_count": 99,
   "metadata": {
    "collapsed": false,
    "deletable": true,
    "editable": true
   },
   "outputs": [
    {
     "name": "stdout",
     "output_type": "stream",
     "text": [
      "Testing Accuracy: 0.52021484375\n",
      "\n"
     ]
    },
    {
     "data": {
      "image/png": "[encoded data removed]",
      "text/plain": [
       "<matplotlib.figure.Figure at 0x7f3f715b8710>"
      ]
     },
     "metadata": {
      "image/png": {
       "height": 319,
       "width": 349
      }
     },
     "output_type": "display_data"
    }
   ],
   "source": [
    "\"\"\"\n",
    "DON'T MODIFY ANYTHING IN THIS CELL\n",
    "\"\"\"\n",
    "%matplotlib inline\n",
    "%config InlineBackend.figure_format = 'retina'\n",
    "\n",
    "import tensorflow as tf\n",
    "import pickle\n",
    "import helper\n",
    "import random\n",
    "\n",
    "# Set batch size if not already set\n",
    "try:\n",
    "    if batch_size:\n",
    "        pass\n",
    "except NameError:\n",
    "    batch_size = 64\n",
    "\n",
    "save_model_path = './image_classification'\n",
    "n_samples = 4\n",
    "top_n_predictions = 3\n",
    "\n",
    "def test_model():\n",
    "    \"\"\"\n",
    "    Test the saved model against the test dataset\n",
    "    \"\"\"\n",
    "\n",
    "    test_features, test_labels = pickle.load(open('preprocess_training.p', mode='rb'))\n",
    "    loaded_graph = tf.Graph()\n",
    "\n",
    "    with tf.Session(graph=loaded_graph) as sess:\n",
    "        # Load model\n",
    "        loader = tf.train.import_meta_graph(save_model_path + '.meta')\n",
    "        loader.restore(sess, save_model_path)\n",
    "\n",
    "        # Get Tensors from loaded model\n",
    "        loaded_x = loaded_graph.get_tensor_by_name('x:0')\n",
    "        loaded_y = loaded_graph.get_tensor_by_name('y:0')\n",
    "        loaded_keep_prob = loaded_graph.get_tensor_by_name('keep_prob:0')\n",
    "        loaded_logits = loaded_graph.get_tensor_by_name('logits:0')\n",
    "        loaded_acc = loaded_graph.get_tensor_by_name('accuracy:0')\n",
    "        \n",
    "        # Get accuracy in batches for memory limitations\n",
    "        test_batch_acc_total = 0\n",
    "        test_batch_count = 0\n",
    "        \n",
    "        for train_feature_batch, train_label_batch in helper.batch_features_labels(test_features, test_labels, batch_size):\n",
    "            test_batch_acc_total += sess.run(\n",
    "                loaded_acc,\n",
    "                feed_dict={loaded_x: train_feature_batch, loaded_y: train_label_batch, loaded_keep_prob: 1.0})\n",
    "            test_batch_count += 1\n",
    "\n",
    "        print('Testing Accuracy: {}\\n'.format(test_batch_acc_total/test_batch_count))\n",
    "\n",
    "        # Print Random Samples\n",
    "        random_test_features, random_test_labels = tuple(zip(*random.sample(list(zip(test_features, test_labels)), n_samples)))\n",
    "        random_test_predictions = sess.run(\n",
    "            tf.nn.top_k(tf.nn.softmax(loaded_logits), top_n_predictions),\n",
    "            feed_dict={loaded_x: random_test_features, loaded_y: random_test_labels, loaded_keep_prob: 1.0})\n",
    "        helper.display_image_predictions(random_test_features, random_test_labels, random_test_predictions)\n",
    "\n",
    "\n",
    "test_model()"
   ]
  },
  {
   "cell_type": "markdown",
   "metadata": {
    "deletable": true,
    "editable": true
   },
   "source": [
    "## Why 50-70% Accuracy?\n",
    "You might be wondering why you can't get an accuracy any higher. First things first, 50% isn't bad for a simple CNN.  Pure guessing would get you 10% accuracy. However, you might notice people are getting scores [well above 70%](http://rodrigob.github.io/are_we_there_yet/build/classification_datasets_results.html#43494641522d3130).  That's because we haven't taught you all there is to know about neural networks. We still need to cover a few more techniques.\n",
    "## Submitting This Project\n",
    "When submitting this project, make sure to run all the cells before saving the notebook.  Save the notebook file as \"dlnd_image_classification.ipynb\" and save it as a HTML file under \"File\" -> \"Download as\".  Include the \"helper.py\" and \"problem_unittests.py\" files in your submission."
   ]
  }
 ],
 "metadata": {
  "kernelspec": {
   "display_name": "Python 3",
   "language": "python",
   "name": "python3"
  },
  "language_info": {
   "codemirror_mode": {
    "name": "ipython",
    "version": 3
   },
   "file_extension": ".py",
   "mimetype": "text/x-python",
   "name": "python",
   "nbconvert_exporter": "python",
   "pygments_lexer": "ipython3",
   "version": "3.6.0"
  }
 },
 "nbformat": 4,
 "nbformat_minor": 0
}
